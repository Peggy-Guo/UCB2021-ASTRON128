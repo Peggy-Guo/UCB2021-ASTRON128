{
 "cells": [
  {
   "cell_type": "code",
   "execution_count": 1,
   "metadata": {},
   "outputs": [
    {
     "name": "stderr",
     "output_type": "stream",
     "text": [
      "'rsync' 不是内部或外部命令，也不是可运行的程序\n",
      "或批处理文件。\n"
     ]
    }
   ],
   "source": [
    "! rsync  -aLvz  \\\n",
    "--include \"apStar-*[0-9][0-9][0-9][0-9][0-9][0-9][0-9].fits\" --exclude \"*\"\\\n",
    "--prune-empty-dirs --progress \\\n",
    "rsync://data.sdss.org/dr16/apogee/spectro/redux/r12/stars/apo25m stars/apo25m/M15 \\\n",
    "./specdata/"
   ]
  },
  {
   "cell_type": "code",
   "execution_count": null,
   "metadata": {},
   "outputs": [],
   "source": []
  }
 ],
 "metadata": {
  "kernelspec": {
   "display_name": "Python 3",
   "language": "python",
   "name": "python3"
  },
  "language_info": {
   "codemirror_mode": {
    "name": "ipython",
    "version": 3
   },
   "file_extension": ".py",
   "mimetype": "text/x-python",
   "name": "python",
   "nbconvert_exporter": "python",
   "pygments_lexer": "ipython3",
   "version": "3.6.5"
  }
 },
 "nbformat": 4,
 "nbformat_minor": 2
}
