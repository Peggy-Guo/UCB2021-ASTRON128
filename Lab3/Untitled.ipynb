{
 "cells": [
  {
   "cell_type": "code",
   "execution_count": 1,
   "metadata": {},
   "outputs": [],
   "source": [
    "import os\n",
    "import pandas as pd\n",
    "import numpy as np\n",
    "import matplotlib.pyplot as plt"
   ]
  },
  {
   "cell_type": "code",
   "execution_count": 3,
   "metadata": {},
   "outputs": [],
   "source": [
    "train_classification = pd.read_csv('./training_classifications.csv')\n",
    "labeldata = []\n",
    "for i in range(1,38):\n",
    "    array = train_classification.iloc[:,i].values\n",
    "    labeldata.append(array)\n",
    "\n",
    "labeldata = np.array(labeldata)"
   ]
  },
  {
   "cell_type": "code",
   "execution_count": 4,
   "metadata": {},
   "outputs": [],
   "source": [
    "rho = []\n",
    "for i in range(37):\n",
    "    row = []\n",
    "    datai = labeldata[i]\n",
    "    i = np.average(datai)\n",
    "    i2= np.average(datai**2)\n",
    "    for j in range(37):\n",
    "        dataj = labeldata[j]\n",
    "        j = np.average(dataj)\n",
    "        j2 = np.average(dataj**2)\n",
    "        ij = np.average(datai*dataj)\n",
    "        rhoij = (ij-i*j)/((np.sqrt(i2-i**2))*(np.sqrt(j2-j**2)))\n",
    "        row.append(rhoij)\n",
    "    rho.append(row)\n",
    "rho = np.array(rho)"
   ]
  },
  {
   "cell_type": "code",
   "execution_count": 5,
   "metadata": {},
   "outputs": [
    {
     "data": {
      "text/plain": [
       "<matplotlib.image.AxesImage at 0x2730459f0f0>"
      ]
     },
     "execution_count": 5,
     "metadata": {},
     "output_type": "execute_result"
    },
    {
     "data": {
      "image/png": "[encoded data removed]",
      "text/plain": [
       "<Figure size 432x288 with 1 Axes>"
      ]
     },
     "metadata": {},
     "output_type": "display_data"
    }
   ],
   "source": [
    "plt.imshow(rho)"
   ]
  },
  {
   "cell_type": "code",
   "execution_count": 7,
   "metadata": {},
   "outputs": [],
   "source": [
    "from PIL import Image"
   ]
  },
  {
   "cell_type": "code",
   "execution_count": null,
   "metadata": {},
   "outputs": [],
   "source": [
    "Image.re"
   ]
  }
 ],
 "metadata": {
  "kernelspec": {
   "display_name": "Python 3",
   "language": "python",
   "name": "python3"
  },
  "language_info": {
   "codemirror_mode": {
    "name": "ipython",
    "version": 3
   },
   "file_extension": ".py",
   "mimetype": "text/x-python",
   "name": "python",
   "nbconvert_exporter": "python",
   "pygments_lexer": "ipython3",
   "version": "3.6.5"
  }
 },
 "nbformat": 4,
 "nbformat_minor": 2
}
